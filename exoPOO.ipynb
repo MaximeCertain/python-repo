{
 "cells": [
  {
   "cell_type": "code",
   "execution_count": 175,
   "metadata": {},
   "outputs": [],
   "source": [
    "class CompteBancaire:\n",
    "    def __init__(self, nom = 'Dupont', somme = 1000) :\n",
    "        self.nom = nom\n",
    "        self.somme = somme\n",
    "    \n",
    "    def depot(self, value):\n",
    "        self.somme += value\n",
    "\n",
    "    def retrait(self, value):\n",
    "        self.somme -= value\n",
    "\n",
    "    def affiche(self):\n",
    "        print(self.somme)\n",
    "           \n",
    "    def affiche(self):\n",
    "        print(\"Le solde du compte bancaire de \"+self.nom+\" est de \"+str(self.somme) + \" euros\") "
   ]
  },
  {
   "cell_type": "code",
   "execution_count": 176,
   "metadata": {},
   "outputs": [
    {
     "output_type": "stream",
     "name": "stdout",
     "text": "Le solde du compte bancaire de Duchmol est de 950 euros\nLe solde du compte bancaire de Dupont est de 1025 euros\n"
    }
   ],
   "source": [
    "\n",
    "compte1 = CompteBancaire('Duchmol', 800)\n",
    "compte1.depot(350)\n",
    "compte1.retrait(200)\n",
    "compte1.affiche()\n",
    "compte2 = CompteBancaire()\n",
    "compte2.depot(25)\n",
    "compte2.affiche()"
   ]
  },
  {
   "cell_type": "code",
   "execution_count": 179,
   "metadata": {},
   "outputs": [
    {
     "output_type": "stream",
     "name": "stdout",
     "text": "P(2 , 3)\nP(1 , -5 , 6)\n"
    }
   ],
   "source": [
    "class Point:\n",
    "    def __init__(self,  x,y,z=0):\n",
    "        self.x = x\n",
    "        self.y = y\n",
    "        self.z = z\n",
    "\n",
    "    def ToString(self):\n",
    "\n",
    "        if self.z == 0:\n",
    "            endString = \")\"\n",
    "        else:\n",
    "            endString = \" , \" + str(self.z) + \")\"\n",
    "        print(\"P(\" + str(self.x) + \" , \" + str(self.y) + endString)    \n",
    "             \n",
    "P1=Point(2,3)\n",
    "P1.ToString()\n",
    "P2=Point(1,-5,6)\n",
    "P2.ToString()\n"
   ]
  },
  {
   "cell_type": "code",
   "execution_count": 249,
   "metadata": {},
   "outputs": [],
   "source": [
    "class DateNaissance:\n",
    "    def __init__(self, jour, mois, annee):\n",
    "        self.jour = jour\n",
    "        self.mois = mois\n",
    "        self.annee = annee\n",
    "    def ToString(self):\n",
    "        return (str(self.jour)+'/'+str(self.mois)+'/'+(str(self.annee)))\n",
    "\n",
    "class Personne:\n",
    "    def __init__(self, nom, prenom, dateDeNaissance):\n",
    "        self.nom = nom\n",
    "        self.prenom = prenom\n",
    "        self.dateDeNaissance = dateDeNaissance\n",
    "\n",
    "    def afficher(self):\n",
    "        print(\"Nom = \" + self.nom)\n",
    "        print(\"Prenom = \" + self.prenom)\n",
    "        print(\"Date de Naissance = \" + self.dateDeNaissance.ToString())    \n",
    "\n",
    "class Employe(Personne):\n",
    "    def __init__(self,nom, prenom, dateDeNaissance, salaire):\n",
    "        Personne.__init__(self,nom,prenom,dateDeNaissance)\n",
    "        self.salaire = salaire                    \n",
    "    def afficher(self):\n",
    "        Personne.afficher(self)   \n",
    "        print(\"Salaire = \" + str(self.salaire))\n",
    "\n",
    "class Chef(Employe):\n",
    "    def __init__(self,nom, prenom, dateDeNaissance, salaire, service):\n",
    "        Employe.__init__(self,nom,prenom,dateDeNaissance, salaire)\n",
    "        self.service = service                    \n",
    "    def afficher(self):\n",
    "        Employe.afficher(self)  \n",
    "        print(\"Service = \" + self.service)                                                     "
   ]
  },
  {
   "cell_type": "code",
   "execution_count": 250,
   "metadata": {},
   "outputs": [
    {
     "output_type": "stream",
     "name": "stdout",
     "text": "Nom = Ilyass\nPrenom = Math\nDate de Naissance = 1/7/1982\nNom = Ilyass\nPrenom = Math\nDate de Naissance = 1/7/1985\nSalaire = 7865.548\nNom = Ilyass\nPrenom = Math\nDate de Naissance = 1/7/1988\nSalaire = 7865.548\nService = Ressource humaine\n"
    }
   ],
   "source": [
    "P=Personne(\"Ilyass\",\"Math\",DateNaissance(1,7,1982))\n",
    "P.afficher()\n",
    "E=Employe(\"Ilyass\",\"Math\",DateNaissance(1,7,1985),7865.548)\n",
    "E.afficher()\n",
    "Ch=Chef(\"Ilyass\",\"Math\",DateNaissance(1,7,1988),7865.548,\"Ressource humaine\")\n",
    "Ch.afficher()"
   ]
  },
  {
   "cell_type": "code",
   "execution_count": 291,
   "metadata": {},
   "outputs": [],
   "source": [
    "class Envoi:\n",
    "    def __init__(self, adresseeExpedition, adresseeDestination, poids, mode):\n",
    "        self.adresseeExpedition = adresseeExpedition\n",
    "        self.adresseeDestination = adresseeDestination\n",
    "        self.poids = poids\n",
    "        self.mode = mode\n",
    "    def ToString(self):\n",
    "        print( \"Adresse d'expedition : \" + self.adresseeExpedition)\n",
    "        print( \"Adresse dedestination : \" + self.adresseeDestination)\n",
    "        print( \"Poids : \" + str(self.poids))\n",
    "        print( \"Mode d'éxpedition : \" + self.mode)\n",
    "    def surchargeExpress(self, montant):\n",
    "        if self.mode==\"express\":\n",
    "            montant*=2\n",
    "        return montant;            \n",
    "\n",
    "class Lettre(Envoi):\n",
    "    def __init__(self, adresseeExpedition, adresseeDestination, poids, mode, format):\n",
    "        Envoi.__init__(self,adresseeExpedition,adresseeDestination,poids,mode)\n",
    "        self.format = format\n",
    "    def ToString(self):\n",
    "        print(\"Lettre : \")\n",
    "        Envoi.ToString(self)\n",
    "        print( \"Format : \" + self.format)\n",
    "        print(\"Prix du timbre : \" + str(self.calculTimbre()))\n",
    "    def calculTimbre(self):\n",
    "        if(self.format == \"A4\"):\n",
    "            tarif_base = 2.5\n",
    "        else:\n",
    "            tarif_base = 3.5\n",
    "        montant=tarif_base * self.poids/1000\n",
    "        montant = Envoi.surchargeExpress(self, montant)\n",
    "               \n",
    "        return montant                                \n",
    "\n",
    "class Colis:\n",
    "    def __init__(self, adresseeExpedition, adresseeDestination, poids, modeExpedition, volume):\n",
    "        Envoi.__init__(self,adresseeExpedition,adresseeDestination,poids,modeExpedition)\n",
    "        self.volume = volume\n",
    "    def ToString(self):\n",
    "        print(\"Lettre : \")\n",
    "        Envoi.ToString(self)\n",
    "        print( \"Volume : \" + str(self.volume))\n",
    "        print(\"Prix du timbre : \" + str(self.calculTimbre()))\n",
    "\n",
    "    def calculTimbre(self):\n",
    "        montant=0.25*self.volume*self.poids/1000\n",
    "        montant = Envoi.surchargeExpress(self, montant)\n",
    "\n",
    "        return montant"
   ]
  },
  {
   "cell_type": "code",
   "execution_count": 292,
   "metadata": {},
   "outputs": [
    {
     "output_type": "stream",
     "name": "stdout",
     "text": "Lettre : \nAdresse d'expedition : Lille\nAdresse dedestination : Paris\nPoids : 80\nMode d'éxpedition : normal\nFormat : A4\nPrix du timbre : 0.2\nLettre : \nAdresse d'expedition : Marrakeche\nAdresse dedestination : Barcelone\nPoids : 3500\nMode d'éxpedition : expresse\nVolume : 2.25\nPrix du timbre : 1.96875\n"
    }
   ],
   "source": [
    "L1=Lettre(\"Lille\",\"Paris\",80,\"normal\",\"A4\")\n",
    "L1.ToString()\n",
    "\n",
    "C1=Colis(\"Marrakeche\",\"Barcelone\",3500,\"expresse\",2.25)\n",
    "C1.ToString()"
   ]
  },
  {
   "cell_type": "code",
   "execution_count": null,
   "metadata": {},
   "outputs": [],
   "source": []
  },
  {
   "cell_type": "code",
   "execution_count": null,
   "metadata": {},
   "outputs": [],
   "source": []
  }
 ],
 "metadata": {
  "language_info": {
   "codemirror_mode": {
    "name": "ipython",
    "version": 3
   },
   "file_extension": ".py",
   "mimetype": "text/x-python",
   "name": "python",
   "nbconvert_exporter": "python",
   "pygments_lexer": "ipython3",
   "version": "3.7.7-final"
  },
  "orig_nbformat": 2,
  "kernelspec": {
   "name": "python37764bitdcfe82969f8f48a6ba0dac2bf1c0f2c4",
   "display_name": "Python 3.7.7 64-bit"
  }
 },
 "nbformat": 4,
 "nbformat_minor": 2
}