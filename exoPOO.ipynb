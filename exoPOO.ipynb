{
 "cells": [
  {
   "cell_type": "code",
   "execution_count": 32,
   "metadata": {},
   "outputs": [],
   "source": [
    "class CompteBancaire:\n",
    "    def __init__(self, nom = 'Dupont', somme = 1000) :\n",
    "        self.nom = nom\n",
    "        self.somme = somme\n",
    "        print(\"L'objet à bien été crée !\")\n",
    "    \n",
    "    def depot(self, value):\n",
    "        self.somme += value\n",
    "        print('Compte incrémenté')\n",
    "    def retrait(self, value):\n",
    "        self.somme -= value\n",
    "        print('Compte décrémenté')       "
   ]
  },
  {
   "cell_type": "code",
   "execution_count": 33,
   "metadata": {},
   "outputs": [
    {
     "output_type": "stream",
     "name": "stdout",
     "text": "L'objet à bien été crée !\nCompte incrémenté\n"
    }
   ],
   "source": [
    "\n",
    "compte1 = CompteBancaire('Duchmol', 800)\n",
    "compte1.depot(12)\n",
    "compte1.retrait(12)\n"
   ]
  },
  {
   "cell_type": "code",
   "execution_count": null,
   "metadata": {},
   "outputs": [],
   "source": []
  }
 ],
 "metadata": {
  "language_info": {
   "codemirror_mode": {
    "name": "ipython",
    "version": 3
   },
   "file_extension": ".py",
   "mimetype": "text/x-python",
   "name": "python",
   "nbconvert_exporter": "python",
   "pygments_lexer": "ipython3",
   "version": "3.7.7-final"
  },
  "orig_nbformat": 2,
  "kernelspec": {
   "name": "python37764bitdcfe82969f8f48a6ba0dac2bf1c0f2c4",
   "display_name": "Python 3.7.7 64-bit"
  }
 },
 "nbformat": 4,
 "nbformat_minor": 2
}